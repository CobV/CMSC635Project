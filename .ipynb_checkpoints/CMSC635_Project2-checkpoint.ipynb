{
 "cells": [
  {
   "cell_type": "code",
   "execution_count": 1,
   "id": "9612ee14",
   "metadata": {},
   "outputs": [],
   "source": [
    "\"\"\"\n",
    "Created on Wed Mar  8 12:04:48 2023\n",
    "@author: Ahmad Al Musawi\n",
    "\"\"\"\n",
    "\n",
    "from sklearn.manifold import SpectralEmbedding\n",
    "from sklearn.decomposition import PCA\n",
    "import pandas as pd\n",
    "from sklearn.svm import LinearSVC, SVC\n",
    "from sklearn.naive_bayes import GaussianNB\n",
    "from sklearn.linear_model import LogisticRegression\n",
    "from sklearn.tree import DecisionTreeClassifier\n",
    "from sklearn.model_selection import train_test_split\n",
    "import numpy as np\n",
    "from scipy import stats\n",
    "from sklearn.feature_selection import SelectKBest, f_regression\n",
    "from sklearn.preprocessing import StandardScaler\n",
    "\n",
    "from sklearn.linear_model import LinearRegression\n",
    "from mlxtend.feature_selection import SequentialFeatureSelector\n",
    "from sklearn.metrics import accuracy_score, confusion_matrix, roc_auc_score, roc_curve, precision_recall_curve, average_precision_score\n",
    "\n"
   ]
  },
  {
   "cell_type": "code",
   "execution_count": 2,
   "id": "3cbe7484",
   "metadata": {},
   "outputs": [],
   "source": [
    "def split_labels(df, cols):\n",
    "    '''split the dataframe into predicting table and labels\n",
    "       df: given dataset\n",
    "       cols: list of labels\n",
    "    '''\n",
    "    return df[[i for i in df if i not in cols]], df[cols]"
   ]
  },
  {
   "cell_type": "code",
   "execution_count": 3,
   "id": "b0755103",
   "metadata": {},
   "outputs": [],
   "source": [
    "def LinearSVM(X_train,y_train, X_test):\n",
    "    clf = LinearSVC(random_state=42)\n",
    "    clf.fit(X_train, y_train)\n",
    "    \n",
    "    # make predictions on the test set\n",
    "    y_pred = clf.predict(X_test)\n",
    "    return y_pred\n",
    "\n",
    "def GaussianSVM(X_train,y_train, X_test):\n",
    "#     print('implementing SVM...')\n",
    "    clf = SVC(kernel='rbf', C=1.0) # Gaussian radial basis function (RBF) kernel\n",
    "    clf.fit(X_train, y_train)\n",
    "    y_pred = clf.predict(X_test)\n",
    "    return y_pred\n",
    "\n",
    "def PolySVM(X_train,y_train, X_test):\n",
    "#     print('implementing SVM...')\n",
    "    clf = SVC(kernel='poly', degree=2, coef0=1, random_state=42)\n",
    "    clf.fit(X_train, y_train)\n",
    "    y_pred = clf.predict(X_test)\n",
    "    return y_pred\n",
    "\n",
    "def SigmoidSVM(X_train,y_train, X_test):\n",
    "#     print('implementing SVM...')\n",
    "    clf = SVC(kernel='sigmoid', gamma='scale', random_state=42)\n",
    "    clf.fit(X_train, y_train)\n",
    "    y_pred = clf.predict(X_test)\n",
    "    return y_pred\n",
    "\n",
    "def NaiveBayes(X_train,y_train, X_test):\n",
    "#     print('implementing Naive Bayes...')\n",
    "    clf = GaussianNB()\n",
    "    clf.fit(X_train, y_train)\n",
    "    y_pred = clf.predict(X_test)\n",
    "    return y_pred\n",
    "\n",
    "def Logistic(X_train,y_train, X_test):\n",
    "#     print('implementing Logistic Regression...')\n",
    "    clf = LogisticRegression()\n",
    "    clf.fit(X_train, y_train)\n",
    "    \n",
    "    # make predictions on the test set\n",
    "    y_pred = clf.predict(X_test)    \n",
    "    return y_pred\n",
    "\n",
    "   \n",
    "def CART(X_train,y_train, X_test):\n",
    "#     print('implementing CART...')\n",
    "    clf = DecisionTreeClassifier(max_depth=5)\n",
    "    clf.fit(X_train, y_train)\n",
    "    y_pred = clf.predict(X_test)\n",
    "    return y_pred\n",
    "\n",
    "def kNN(X_train,y_train, X_test):\n",
    "#     print('implementing kNN...')\n",
    "    from sklearn.neighbors import KNeighborsClassifier\n",
    "\n",
    "    # assuming X is your data and k is the number of clusters\n",
    "    clf = KNeighborsClassifier(n_neighbors=10)\n",
    "    clf.fit(X_train, y_train)\n",
    "    return clf.predict(X_test)"
   ]
  },
  {
   "cell_type": "code",
   "execution_count": 4,
   "id": "b2387180",
   "metadata": {},
   "outputs": [],
   "source": [
    "def one_split(X, Y):\n",
    "    X_train, X_test, y_train, y_test = train_test_split(X, Y, test_size=0.3, random_state=42)\n",
    "    return X_train, X_test, y_train, y_test \n",
    "\n",
    "def get_classification_metrics(y_true, y_pred):\n",
    "    accuracy = accuracy_score(y_true, y_pred)\n",
    "    cm = confusion_matrix(y_true, y_pred)\n",
    "    num_classes = cm.shape[0]\n",
    "    sensitivity = []\n",
    "    specificity = []\n",
    "    for i in range(num_classes):\n",
    "        tp = cm[i,i]\n",
    "        fn = np.sum(cm[i,:]) - tp\n",
    "        fp = np.sum(cm[:,i]) - tp\n",
    "        tn = np.sum(cm) - tp - fp - fn\n",
    "        \n",
    "        sensitivity_i = tp / (tp + fn)\n",
    "        specificity_i = tn / (tn + fp)\n",
    "        sensitivity.append(sensitivity_i)\n",
    "        specificity.append(specificity_i)\n",
    "    \n",
    "    macro_sensitivity = np.mean(sensitivity)\n",
    "    macro_specificity = np.mean(specificity)\n",
    "    \n",
    "    return accuracy, macro_sensitivity, macro_specificity\n",
    "\n",
    "def predict(X,Y, predictors):\n",
    "    X_train, X_test, y_train, y_test = one_split(X, Y)\n",
    "    \n",
    "    scaler = StandardScaler()\n",
    "    X_train = scaler.fit_transform(X_train)\n",
    "    X_test = scaler.transform(X_test)\n",
    "    \n",
    "    pred_Y = [pred(X_train,y_train, X_test) for pred in predictors]\n",
    "    return [get_classification_metrics(y_test, p) for p in pred_Y]\n"
   ]
  },
  {
   "cell_type": "code",
   "execution_count": 5,
   "id": "2d2f17b3",
   "metadata": {},
   "outputs": [],
   "source": [
    "df1 = pd.read_csv('heart.csv')\n",
    "\n",
    "# Preprocessing\n",
    "dataset = df1\n",
    "from pandas import get_dummies\n",
    "a = pd.get_dummies(dataset['sex'], prefix = \"sex\")\n",
    "b = pd.get_dummies(dataset['cp'], prefix = \"cp\")\n",
    "c = pd.get_dummies(dataset['fbs'], prefix = \"fbs\")\n",
    "d = pd.get_dummies(dataset['restecg'], prefix = \"restecg\")\n",
    "e = pd.get_dummies(dataset['exang'], prefix = \"exang\")\n",
    "f = pd.get_dummies(dataset['slope'], prefix = \"slope\")\n",
    "g = pd.get_dummies(dataset['ca'], prefix = \"ca\")\n",
    "h = pd.get_dummies(dataset['thal'], prefix = \"thal\")\n",
    "\n",
    "frames = [dataset, a, b, c, d, e, f, g, h]\n",
    "dataset2 = pd.concat(frames, axis = 1)\n",
    "dataset2 = dataset2.drop(columns = ['sex','cp', 'fbs', 'restecg','exang','slope','ca','thal'])\n",
    "\n",
    "df1 = dataset2\n",
    "X1, Y1 = split_labels(df1, ['target'])"
   ]
  },
  {
   "cell_type": "code",
   "execution_count": 6,
   "id": "31ececaa",
   "metadata": {},
   "outputs": [],
   "source": [
    "df2 = pd.read_excel('CTG.xls', sheet_name = 'Raw Data')\n",
    "\n",
    "df2 = df2[[i for i in df2 if i not in ['FileName','Date','SegFile']]]\n",
    "\n",
    "X2, Y2 = split_labels(df2, ['NSP'])\n",
    "\n",
    "nX2 = stats.zscore(X2)"
   ]
  },
  {
   "cell_type": "code",
   "execution_count": 7,
   "id": "c4b52907",
   "metadata": {},
   "outputs": [
    {
     "name": "stderr",
     "output_type": "stream",
     "text": [
      "D:\\Documents\\anaconda3\\lib\\site-packages\\sklearn\\utils\\validation.py:993: DataConversionWarning: A column-vector y was passed when a 1d array was expected. Please change the shape of y to (n_samples, ), for example using ravel().\n",
      "  y = column_or_1d(y, warn=True)\n",
      "D:\\Documents\\anaconda3\\lib\\site-packages\\sklearn\\svm\\_base.py:1206: ConvergenceWarning: Liblinear failed to converge, increase the number of iterations.\n",
      "  warnings.warn(\n",
      "D:\\Documents\\anaconda3\\lib\\site-packages\\sklearn\\utils\\validation.py:993: DataConversionWarning: A column-vector y was passed when a 1d array was expected. Please change the shape of y to (n_samples, ), for example using ravel().\n",
      "  y = column_or_1d(y, warn=True)\n",
      "D:\\Documents\\anaconda3\\lib\\site-packages\\sklearn\\utils\\validation.py:993: DataConversionWarning: A column-vector y was passed when a 1d array was expected. Please change the shape of y to (n_samples, ), for example using ravel().\n",
      "  y = column_or_1d(y, warn=True)\n",
      "D:\\Documents\\anaconda3\\lib\\site-packages\\sklearn\\utils\\validation.py:993: DataConversionWarning: A column-vector y was passed when a 1d array was expected. Please change the shape of y to (n_samples, ), for example using ravel().\n",
      "  y = column_or_1d(y, warn=True)\n",
      "D:\\Documents\\anaconda3\\lib\\site-packages\\sklearn\\utils\\validation.py:993: DataConversionWarning: A column-vector y was passed when a 1d array was expected. Please change the shape of y to (n_samples, ), for example using ravel().\n",
      "  y = column_or_1d(y, warn=True)\n",
      "D:\\Documents\\anaconda3\\lib\\site-packages\\sklearn\\utils\\validation.py:993: DataConversionWarning: A column-vector y was passed when a 1d array was expected. Please change the shape of y to (n_samples, ), for example using ravel().\n",
      "  y = column_or_1d(y, warn=True)\n",
      "D:\\Documents\\anaconda3\\lib\\site-packages\\sklearn\\neighbors\\_classification.py:198: DataConversionWarning: A column-vector y was passed when a 1d array was expected. Please change the shape of y to (n_samples,), for example using ravel().\n",
      "  return self._fit(X, y)\n",
      "D:\\Documents\\anaconda3\\lib\\site-packages\\sklearn\\neighbors\\_classification.py:228: FutureWarning: Unlike other reduction functions (e.g. `skew`, `kurtosis`), the default behavior of `mode` typically preserves the axis it acts along. In SciPy 1.11.0, this behavior will change: the default value of `keepdims` will become False, the `axis` over which the statistic is taken will be eliminated, and the value None will no longer be accepted. Set `keepdims` to True or False to avoid this warning.\n",
      "  mode, _ = stats.mode(_y[neigh_ind, k], axis=1)\n",
      "D:\\Documents\\anaconda3\\lib\\site-packages\\sklearn\\utils\\validation.py:993: DataConversionWarning: A column-vector y was passed when a 1d array was expected. Please change the shape of y to (n_samples, ), for example using ravel().\n",
      "  y = column_or_1d(y, warn=True)\n",
      "D:\\Documents\\anaconda3\\lib\\site-packages\\sklearn\\svm\\_base.py:1206: ConvergenceWarning: Liblinear failed to converge, increase the number of iterations.\n",
      "  warnings.warn(\n",
      "D:\\Documents\\anaconda3\\lib\\site-packages\\sklearn\\utils\\validation.py:993: DataConversionWarning: A column-vector y was passed when a 1d array was expected. Please change the shape of y to (n_samples, ), for example using ravel().\n",
      "  y = column_or_1d(y, warn=True)\n"
     ]
    },
    {
     "name": "stdout",
     "output_type": "stream",
     "text": [
      "Heart Disease\n",
      "         model  accuracy  sensitivity  specificity\n",
      "0    LinearSVM  0.814935     0.816323     0.816323\n",
      "1  GaussianSVM  0.918831     0.919484     0.919484\n",
      "2      PolySVM  0.870130     0.870837     0.870837\n",
      "3   SigmoidSVM  0.795455     0.797877     0.797877\n",
      "4   NaiveBayes  0.733766     0.740239     0.740239\n",
      "5     Logistic  0.798701     0.799755     0.799755\n",
      "6         CART  0.879870     0.882593     0.882593\n",
      "7          kNN  0.863636     0.863704     0.863704\n",
      "Heart Disease2\n",
      "         model  accuracy  sensitivity  specificity\n",
      "0    LinearSVM  0.989028     0.979953     0.990475\n",
      "1  GaussianSVM  0.985893     0.973352     0.985780\n",
      "2      PolySVM  0.989028     0.979953     0.990475\n",
      "3   SigmoidSVM  0.957680     0.933625     0.968573\n",
      "4   NaiveBayes  0.913793     0.947695     0.960680\n",
      "5     Logistic  0.989028     0.979953     0.990475\n",
      "6         CART  0.973354     0.967976     0.980814\n",
      "7          kNN  0.985893     0.973352     0.985780\n"
     ]
    },
    {
     "name": "stderr",
     "output_type": "stream",
     "text": [
      "D:\\Documents\\anaconda3\\lib\\site-packages\\sklearn\\utils\\validation.py:993: DataConversionWarning: A column-vector y was passed when a 1d array was expected. Please change the shape of y to (n_samples, ), for example using ravel().\n",
      "  y = column_or_1d(y, warn=True)\n",
      "D:\\Documents\\anaconda3\\lib\\site-packages\\sklearn\\utils\\validation.py:993: DataConversionWarning: A column-vector y was passed when a 1d array was expected. Please change the shape of y to (n_samples, ), for example using ravel().\n",
      "  y = column_or_1d(y, warn=True)\n",
      "D:\\Documents\\anaconda3\\lib\\site-packages\\sklearn\\utils\\validation.py:993: DataConversionWarning: A column-vector y was passed when a 1d array was expected. Please change the shape of y to (n_samples, ), for example using ravel().\n",
      "  y = column_or_1d(y, warn=True)\n",
      "D:\\Documents\\anaconda3\\lib\\site-packages\\sklearn\\utils\\validation.py:993: DataConversionWarning: A column-vector y was passed when a 1d array was expected. Please change the shape of y to (n_samples, ), for example using ravel().\n",
      "  y = column_or_1d(y, warn=True)\n",
      "D:\\Documents\\anaconda3\\lib\\site-packages\\sklearn\\neighbors\\_classification.py:198: DataConversionWarning: A column-vector y was passed when a 1d array was expected. Please change the shape of y to (n_samples,), for example using ravel().\n",
      "  return self._fit(X, y)\n",
      "D:\\Documents\\anaconda3\\lib\\site-packages\\sklearn\\neighbors\\_classification.py:228: FutureWarning: Unlike other reduction functions (e.g. `skew`, `kurtosis`), the default behavior of `mode` typically preserves the axis it acts along. In SciPy 1.11.0, this behavior will change: the default value of `keepdims` will become False, the `axis` over which the statistic is taken will be eliminated, and the value None will no longer be accepted. Set `keepdims` to True or False to avoid this warning.\n",
      "  mode, _ = stats.mode(_y[neigh_ind, k], axis=1)\n"
     ]
    }
   ],
   "source": [
    "predictors = [LinearSVM, GaussianSVM, PolySVM, SigmoidSVM, NaiveBayes, Logistic, CART, kNN]\n",
    "predictorsTXT = ['LinearSVM', 'GaussianSVM', 'PolySVM', 'SigmoidSVM', 'NaiveBayes', 'Logistic', 'CART', 'kNN']\n",
    "\n",
    "results1 = predict(X1, Y1, predictors)\n",
    "results2 = predict(X2, Y2, predictors)\n",
    "\n",
    "print('Heart Disease')\n",
    "acc, sen, spe  = [],[],[]\n",
    "for a, s, e in results1:\n",
    "    acc.append(a)\n",
    "    sen.append(s)\n",
    "    spe.append(e)\n",
    "print(pd.DataFrame({'model': predictorsTXT,'accuracy': acc, 'sensitivity': sen, 'specificity': spe}))\n",
    "\n",
    "\n",
    "print('Heart Disease2')\n",
    "acc, sen, spe = [],[],[]\n",
    "for a, s, e  in results2:\n",
    "    acc.append(a)\n",
    "    sen.append(s)\n",
    "    spe.append(e)\n",
    "print(pd.DataFrame({'model': predictorsTXT,'accuracy': acc, 'sensitivity': sen, 'specificity': spe}))"
   ]
  },
  {
   "cell_type": "code",
   "execution_count": 34,
   "id": "10e1e673",
   "metadata": {},
   "outputs": [],
   "source": [
    "def PCA_model(X, y=None, n = 2):\n",
    "#     print(\"PCA model\")\n",
    "    pca = PCA(n_components=n)\n",
    "    pca.fit(X)\n",
    "    X_pca = pca.transform(X)\n",
    "    print(pca.explained_variance_ratio_)\n",
    "    selected_features = pca.components_\n",
    "#     print(f'PCA\\tNoF = {len(selected_features)}')\n",
    "    return X_pca\n",
    "\n",
    "def Kernel_PCA(X, y=None, n = 2):\n",
    "    from sklearn.decomposition import KernelPCA\n",
    "#     print(\"Kernal PCA model\")\n",
    "    pca = KernelPCA(n_components=n, kernel='rbf')\n",
    "    pca.fit_transform(X)\n",
    "    return pca\n",
    "\n",
    "def CE_Model(X, y=None, n=2):\n",
    "    # Compute the spectral embedding using the Gaussian kernel\n",
    "    sigma = 0.1\n",
    "    embedding_gaussian = SpectralEmbedding(n_components=n, affinity='rbf', gamma=1 / (2 * sigma ** 2))\n",
    "#     embedding = embedding_gaussian(n_components=n)\n",
    "    X_CE = embedding_gaussian.fit_transform(X)\n",
    "    return X_CE\n",
    "\n",
    "def CE2(X, y=None, n=2):\n",
    "    embedding = SpectralEmbedding(n_components=n, affinity='nearest_neighbors', n_neighbors=10, eigen_solver='arpack')\n",
    "    X_CE = embedding.fit_transform(X)\n",
    "#     print(f'CE2\\tOld shape = {X.shape}\\t\\t new shape = {X_CE.shape}\\t\\t components = {n}')\n",
    "    return X_CE\n",
    "\n",
    "def LLE(X, y=None, n=2):\n",
    "    from sklearn.manifold import LocallyLinearEmbedding\n",
    "#     print('CE Model: Locally Linear Embedding')\n",
    "    embedding = LocallyLinearEmbedding(n_components=n, n_neighbors=10)\n",
    "    X_CE = embedding.fit_transform(X)\n",
    "#     print(f'LLE\\tOld shape = {X.shape}\\t\\t new shape = {X_CE.shape}\\t\\t components = {n}')\n",
    "    return X_CE\n",
    "\n",
    "def Isomap(X, y=None, n=2):\n",
    "    from sklearn.manifold import Isomap\n",
    "#     print('CE Model: Isomap')\n",
    "    embedding =  Isomap(n_components=n, n_neighbors=10)\n",
    "    X_CE = embedding.fit_transform(X)\n",
    "#     print(f'ISOMAP\\tOld shape = {X.shape}\\t\\t new shape = {X_CE.shape}\\t\\t components = {n}')\n",
    "    return X_CE\n",
    "\n",
    "def TSNE(X, y=None, n=2):\n",
    "    from sklearn.manifold import TSNE\n",
    "#     print('CE Model: TSNE')\n",
    "    embedding = TSNE(n_components=2, perplexity=30, n_iter=1000)\n",
    "    X_CE = embedding.fit_transform(X)\n",
    "#     print(f'TSNE\\tOld shape = {X.shape}\\t\\t new shape = {X_CE.shape}\\t\\t components = {n}')\n",
    "    return X_CE\n",
    "\n",
    "\n",
    "\n",
    "def CFS(X, y, n=2):\n",
    "#     print('CFS Model')\n",
    "    selector = SelectKBest(score_func=f_regression, k=n)\n",
    "    X_new = selector.fit_transform(X, y)\n",
    "    return X_new\n",
    "\n",
    "def LLCFS(X, y=None,n=2):\n",
    "#     print('LLCFS Model')\n",
    "    scaler = StandardScaler()\n",
    "    X = scaler.fit_transform(X)\n",
    "    return X\n",
    "\n",
    "def ILFS(X, y, n=2):\n",
    "    # create a linear regression model\n",
    "#     print('ILFS Model')\n",
    "    model = LinearRegression()\n",
    "    \n",
    "    # define the search space\n",
    "    k_features = np.arange(1, X.shape[1]+1)\n",
    "    \n",
    "    # create a sequential feature selector object\n",
    "    selector = SequentialFeatureSelector(model, k_features=k_features, forward=True, scoring='r2', cv=5)\n",
    "    \n",
    "    # perform incremental feature selection\n",
    "    selector.fit(X, y)\n",
    "    \n",
    "    # print the selected feature indices\n",
    "    print(\"Indices of selected features:\", selector.k_feature_idx_)\n",
    "    return selector.k_feature_idx_\n",
    "\n",
    "from sklearn.metrics import accuracy_score, confusion_matrix, roc_auc_score, average_precision_score"
   ]
  },
  {
   "cell_type": "code",
   "execution_count": 35,
   "id": "a3c51275",
   "metadata": {},
   "outputs": [],
   "source": [
    "predictors = [LinearSVM, GaussianSVM, PolySVM, SigmoidSVM, NaiveBayes, Logistic, CART, kNN]\n",
    "predictorsTXT = ['LinearSVM', 'GaussianSVM', 'PolySVM', 'SigmoidSVM', 'NaiveBayes', 'Logistic', 'CART', 'kNN']"
   ]
  },
  {
   "cell_type": "code",
   "execution_count": 36,
   "id": "9250ece6",
   "metadata": {
    "scrolled": true
   },
   "outputs": [
    {
     "name": "stdout",
     "output_type": "stream",
     "text": [
      "(1025, 30)\n",
      "[0.74525027 0.15198944]\n"
     ]
    },
    {
     "name": "stderr",
     "output_type": "stream",
     "text": [
      "D:\\Documents\\anaconda3\\lib\\site-packages\\sklearn\\manifold\\_spectral_embedding.py:260: UserWarning: Graph is not fully connected, spectral embedding may not work as expected.\n",
      "  warnings.warn(\n",
      "D:\\Documents\\anaconda3\\lib\\site-packages\\sklearn\\manifold\\_spectral_embedding.py:260: UserWarning: Graph is not fully connected, spectral embedding may not work as expected.\n",
      "  warnings.warn(\n",
      "D:\\Documents\\anaconda3\\lib\\site-packages\\sklearn\\manifold\\_isomap.py:324: UserWarning: The number of connected components of the neighbors graph is 2 > 1. Completing the graph to fit Isomap might be slow. Increase the number of neighbors to avoid this issue.\n",
      "  self._fit_transform(X)\n",
      "D:\\Documents\\anaconda3\\lib\\site-packages\\scipy\\sparse\\_index.py:103: SparseEfficiencyWarning: Changing the sparsity structure of a csr_matrix is expensive. lil_matrix is more efficient.\n",
      "  self._set_intXint(row, col, x.flat[0])\n",
      "D:\\Documents\\anaconda3\\lib\\site-packages\\sklearn\\manifold\\_t_sne.py:780: FutureWarning: The default initialization in TSNE will change from 'random' to 'pca' in 1.2.\n",
      "  warnings.warn(\n",
      "D:\\Documents\\anaconda3\\lib\\site-packages\\sklearn\\manifold\\_t_sne.py:790: FutureWarning: The default learning rate in TSNE will change from 200.0 to 'auto' in 1.2.\n",
      "  warnings.warn(\n"
     ]
    },
    {
     "name": "stdout",
     "output_type": "stream",
     "text": [
      "[0.74525027 0.15198944 0.08492128 0.0164983 ]\n"
     ]
    },
    {
     "name": "stderr",
     "output_type": "stream",
     "text": [
      "D:\\Documents\\anaconda3\\lib\\site-packages\\sklearn\\manifold\\_spectral_embedding.py:260: UserWarning: Graph is not fully connected, spectral embedding may not work as expected.\n",
      "  warnings.warn(\n",
      "D:\\Documents\\anaconda3\\lib\\site-packages\\sklearn\\manifold\\_spectral_embedding.py:260: UserWarning: Graph is not fully connected, spectral embedding may not work as expected.\n",
      "  warnings.warn(\n",
      "D:\\Documents\\anaconda3\\lib\\site-packages\\sklearn\\manifold\\_isomap.py:324: UserWarning: The number of connected components of the neighbors graph is 2 > 1. Completing the graph to fit Isomap might be slow. Increase the number of neighbors to avoid this issue.\n",
      "  self._fit_transform(X)\n",
      "D:\\Documents\\anaconda3\\lib\\site-packages\\scipy\\sparse\\_index.py:103: SparseEfficiencyWarning: Changing the sparsity structure of a csr_matrix is expensive. lil_matrix is more efficient.\n",
      "  self._set_intXint(row, col, x.flat[0])\n",
      "D:\\Documents\\anaconda3\\lib\\site-packages\\sklearn\\manifold\\_t_sne.py:780: FutureWarning: The default initialization in TSNE will change from 'random' to 'pca' in 1.2.\n",
      "  warnings.warn(\n",
      "D:\\Documents\\anaconda3\\lib\\site-packages\\sklearn\\manifold\\_t_sne.py:790: FutureWarning: The default learning rate in TSNE will change from 200.0 to 'auto' in 1.2.\n",
      "  warnings.warn(\n"
     ]
    },
    {
     "name": "stdout",
     "output_type": "stream",
     "text": [
      "[7.45250270e-01 1.51989441e-01 8.49212797e-02 1.64983040e-02\n",
      " 3.79041061e-04 1.68144799e-04]\n"
     ]
    },
    {
     "name": "stderr",
     "output_type": "stream",
     "text": [
      "D:\\Documents\\anaconda3\\lib\\site-packages\\sklearn\\manifold\\_spectral_embedding.py:260: UserWarning: Graph is not fully connected, spectral embedding may not work as expected.\n",
      "  warnings.warn(\n",
      "D:\\Documents\\anaconda3\\lib\\site-packages\\sklearn\\manifold\\_spectral_embedding.py:260: UserWarning: Graph is not fully connected, spectral embedding may not work as expected.\n",
      "  warnings.warn(\n",
      "D:\\Documents\\anaconda3\\lib\\site-packages\\sklearn\\manifold\\_isomap.py:324: UserWarning: The number of connected components of the neighbors graph is 2 > 1. Completing the graph to fit Isomap might be slow. Increase the number of neighbors to avoid this issue.\n",
      "  self._fit_transform(X)\n",
      "D:\\Documents\\anaconda3\\lib\\site-packages\\scipy\\sparse\\_index.py:103: SparseEfficiencyWarning: Changing the sparsity structure of a csr_matrix is expensive. lil_matrix is more efficient.\n",
      "  self._set_intXint(row, col, x.flat[0])\n",
      "D:\\Documents\\anaconda3\\lib\\site-packages\\sklearn\\manifold\\_t_sne.py:780: FutureWarning: The default initialization in TSNE will change from 'random' to 'pca' in 1.2.\n",
      "  warnings.warn(\n",
      "D:\\Documents\\anaconda3\\lib\\site-packages\\sklearn\\manifold\\_t_sne.py:790: FutureWarning: The default learning rate in TSNE will change from 200.0 to 'auto' in 1.2.\n",
      "  warnings.warn(\n"
     ]
    },
    {
     "name": "stdout",
     "output_type": "stream",
     "text": [
      "[7.45250270e-01 1.51989441e-01 8.49212797e-02 1.64983040e-02\n",
      " 3.79041061e-04 1.68144814e-04 1.31375726e-04 1.07866598e-04]\n"
     ]
    },
    {
     "name": "stderr",
     "output_type": "stream",
     "text": [
      "D:\\Documents\\anaconda3\\lib\\site-packages\\sklearn\\manifold\\_spectral_embedding.py:260: UserWarning: Graph is not fully connected, spectral embedding may not work as expected.\n",
      "  warnings.warn(\n",
      "D:\\Documents\\anaconda3\\lib\\site-packages\\sklearn\\manifold\\_spectral_embedding.py:260: UserWarning: Graph is not fully connected, spectral embedding may not work as expected.\n",
      "  warnings.warn(\n",
      "D:\\Documents\\anaconda3\\lib\\site-packages\\sklearn\\manifold\\_isomap.py:324: UserWarning: The number of connected components of the neighbors graph is 2 > 1. Completing the graph to fit Isomap might be slow. Increase the number of neighbors to avoid this issue.\n",
      "  self._fit_transform(X)\n",
      "D:\\Documents\\anaconda3\\lib\\site-packages\\scipy\\sparse\\_index.py:103: SparseEfficiencyWarning: Changing the sparsity structure of a csr_matrix is expensive. lil_matrix is more efficient.\n",
      "  self._set_intXint(row, col, x.flat[0])\n",
      "D:\\Documents\\anaconda3\\lib\\site-packages\\sklearn\\manifold\\_t_sne.py:780: FutureWarning: The default initialization in TSNE will change from 'random' to 'pca' in 1.2.\n",
      "  warnings.warn(\n",
      "D:\\Documents\\anaconda3\\lib\\site-packages\\sklearn\\manifold\\_t_sne.py:790: FutureWarning: The default learning rate in TSNE will change from 200.0 to 'auto' in 1.2.\n",
      "  warnings.warn(\n"
     ]
    },
    {
     "name": "stdout",
     "output_type": "stream",
     "text": [
      "[7.45250270e-01 1.51989441e-01 8.49212797e-02 1.64983040e-02\n",
      " 3.79041061e-04 1.68144814e-04 1.31375727e-04 1.07866598e-04\n",
      " 9.27031645e-05 8.02546887e-05]\n"
     ]
    },
    {
     "name": "stderr",
     "output_type": "stream",
     "text": [
      "D:\\Documents\\anaconda3\\lib\\site-packages\\sklearn\\manifold\\_spectral_embedding.py:260: UserWarning: Graph is not fully connected, spectral embedding may not work as expected.\n",
      "  warnings.warn(\n",
      "D:\\Documents\\anaconda3\\lib\\site-packages\\sklearn\\manifold\\_spectral_embedding.py:260: UserWarning: Graph is not fully connected, spectral embedding may not work as expected.\n",
      "  warnings.warn(\n",
      "D:\\Documents\\anaconda3\\lib\\site-packages\\sklearn\\manifold\\_isomap.py:324: UserWarning: The number of connected components of the neighbors graph is 2 > 1. Completing the graph to fit Isomap might be slow. Increase the number of neighbors to avoid this issue.\n",
      "  self._fit_transform(X)\n",
      "D:\\Documents\\anaconda3\\lib\\site-packages\\scipy\\sparse\\_index.py:103: SparseEfficiencyWarning: Changing the sparsity structure of a csr_matrix is expensive. lil_matrix is more efficient.\n",
      "  self._set_intXint(row, col, x.flat[0])\n",
      "D:\\Documents\\anaconda3\\lib\\site-packages\\sklearn\\manifold\\_t_sne.py:780: FutureWarning: The default initialization in TSNE will change from 'random' to 'pca' in 1.2.\n",
      "  warnings.warn(\n",
      "D:\\Documents\\anaconda3\\lib\\site-packages\\sklearn\\manifold\\_t_sne.py:790: FutureWarning: The default learning rate in TSNE will change from 200.0 to 'auto' in 1.2.\n",
      "  warnings.warn(\n"
     ]
    },
    {
     "name": "stdout",
     "output_type": "stream",
     "text": [
      "[7.45250270e-01 1.51989441e-01 8.49212797e-02 1.64983040e-02\n",
      " 3.79041061e-04 1.68144814e-04 1.31375727e-04 1.07866598e-04\n",
      " 9.27031645e-05 8.02546887e-05 7.18502447e-05 6.69134612e-05]\n"
     ]
    },
    {
     "name": "stderr",
     "output_type": "stream",
     "text": [
      "D:\\Documents\\anaconda3\\lib\\site-packages\\sklearn\\manifold\\_spectral_embedding.py:260: UserWarning: Graph is not fully connected, spectral embedding may not work as expected.\n",
      "  warnings.warn(\n",
      "D:\\Documents\\anaconda3\\lib\\site-packages\\sklearn\\manifold\\_spectral_embedding.py:260: UserWarning: Graph is not fully connected, spectral embedding may not work as expected.\n",
      "  warnings.warn(\n",
      "D:\\Documents\\anaconda3\\lib\\site-packages\\sklearn\\manifold\\_isomap.py:324: UserWarning: The number of connected components of the neighbors graph is 2 > 1. Completing the graph to fit Isomap might be slow. Increase the number of neighbors to avoid this issue.\n",
      "  self._fit_transform(X)\n",
      "D:\\Documents\\anaconda3\\lib\\site-packages\\scipy\\sparse\\_index.py:103: SparseEfficiencyWarning: Changing the sparsity structure of a csr_matrix is expensive. lil_matrix is more efficient.\n",
      "  self._set_intXint(row, col, x.flat[0])\n",
      "D:\\Documents\\anaconda3\\lib\\site-packages\\sklearn\\manifold\\_t_sne.py:780: FutureWarning: The default initialization in TSNE will change from 'random' to 'pca' in 1.2.\n",
      "  warnings.warn(\n",
      "D:\\Documents\\anaconda3\\lib\\site-packages\\sklearn\\manifold\\_t_sne.py:790: FutureWarning: The default learning rate in TSNE will change from 200.0 to 'auto' in 1.2.\n",
      "  warnings.warn(\n"
     ]
    },
    {
     "name": "stdout",
     "output_type": "stream",
     "text": [
      "[7.45250270e-01 1.51989441e-01 8.49212797e-02 1.64983040e-02\n",
      " 3.79041061e-04 1.68144814e-04 1.31375727e-04 1.07866598e-04\n",
      " 9.27031645e-05 8.02546887e-05 7.18502447e-05 6.69134612e-05\n",
      " 6.06049535e-05 4.64435282e-05]\n"
     ]
    },
    {
     "name": "stderr",
     "output_type": "stream",
     "text": [
      "D:\\Documents\\anaconda3\\lib\\site-packages\\sklearn\\manifold\\_spectral_embedding.py:260: UserWarning: Graph is not fully connected, spectral embedding may not work as expected.\n",
      "  warnings.warn(\n",
      "D:\\Documents\\anaconda3\\lib\\site-packages\\sklearn\\manifold\\_spectral_embedding.py:260: UserWarning: Graph is not fully connected, spectral embedding may not work as expected.\n",
      "  warnings.warn(\n",
      "D:\\Documents\\anaconda3\\lib\\site-packages\\sklearn\\manifold\\_isomap.py:324: UserWarning: The number of connected components of the neighbors graph is 2 > 1. Completing the graph to fit Isomap might be slow. Increase the number of neighbors to avoid this issue.\n",
      "  self._fit_transform(X)\n",
      "D:\\Documents\\anaconda3\\lib\\site-packages\\scipy\\sparse\\_index.py:103: SparseEfficiencyWarning: Changing the sparsity structure of a csr_matrix is expensive. lil_matrix is more efficient.\n",
      "  self._set_intXint(row, col, x.flat[0])\n",
      "D:\\Documents\\anaconda3\\lib\\site-packages\\sklearn\\manifold\\_t_sne.py:780: FutureWarning: The default initialization in TSNE will change from 'random' to 'pca' in 1.2.\n",
      "  warnings.warn(\n",
      "D:\\Documents\\anaconda3\\lib\\site-packages\\sklearn\\manifold\\_t_sne.py:790: FutureWarning: The default learning rate in TSNE will change from 200.0 to 'auto' in 1.2.\n",
      "  warnings.warn(\n"
     ]
    },
    {
     "name": "stdout",
     "output_type": "stream",
     "text": [
      "[7.45250270e-01 1.51989441e-01 8.49212797e-02 1.64983040e-02\n",
      " 3.79041061e-04 1.68144814e-04 1.31375727e-04 1.07866598e-04\n",
      " 9.27031645e-05 8.02546887e-05 7.18502447e-05 6.69134612e-05\n",
      " 6.06049535e-05 4.64435282e-05 3.62096578e-05 2.45265630e-05]\n"
     ]
    },
    {
     "name": "stderr",
     "output_type": "stream",
     "text": [
      "D:\\Documents\\anaconda3\\lib\\site-packages\\sklearn\\manifold\\_spectral_embedding.py:260: UserWarning: Graph is not fully connected, spectral embedding may not work as expected.\n",
      "  warnings.warn(\n",
      "D:\\Documents\\anaconda3\\lib\\site-packages\\sklearn\\manifold\\_spectral_embedding.py:260: UserWarning: Graph is not fully connected, spectral embedding may not work as expected.\n",
      "  warnings.warn(\n",
      "D:\\Documents\\anaconda3\\lib\\site-packages\\sklearn\\manifold\\_isomap.py:324: UserWarning: The number of connected components of the neighbors graph is 2 > 1. Completing the graph to fit Isomap might be slow. Increase the number of neighbors to avoid this issue.\n",
      "  self._fit_transform(X)\n",
      "D:\\Documents\\anaconda3\\lib\\site-packages\\scipy\\sparse\\_index.py:103: SparseEfficiencyWarning: Changing the sparsity structure of a csr_matrix is expensive. lil_matrix is more efficient.\n",
      "  self._set_intXint(row, col, x.flat[0])\n",
      "D:\\Documents\\anaconda3\\lib\\site-packages\\sklearn\\manifold\\_t_sne.py:780: FutureWarning: The default initialization in TSNE will change from 'random' to 'pca' in 1.2.\n",
      "  warnings.warn(\n",
      "D:\\Documents\\anaconda3\\lib\\site-packages\\sklearn\\manifold\\_t_sne.py:790: FutureWarning: The default learning rate in TSNE will change from 200.0 to 'auto' in 1.2.\n",
      "  warnings.warn(\n"
     ]
    },
    {
     "name": "stdout",
     "output_type": "stream",
     "text": [
      "[7.45250270e-01 1.51989441e-01 8.49212797e-02 1.64983040e-02\n",
      " 3.79041061e-04 1.68144814e-04 1.31375727e-04 1.07866598e-04\n",
      " 9.27031645e-05 8.02546887e-05 7.18502447e-05 6.69134612e-05\n",
      " 6.06049535e-05 4.64435282e-05 3.62096578e-05 2.45265630e-05\n",
      " 2.29950682e-05 1.94622818e-05]\n"
     ]
    },
    {
     "name": "stderr",
     "output_type": "stream",
     "text": [
      "D:\\Documents\\anaconda3\\lib\\site-packages\\sklearn\\manifold\\_spectral_embedding.py:260: UserWarning: Graph is not fully connected, spectral embedding may not work as expected.\n",
      "  warnings.warn(\n",
      "D:\\Documents\\anaconda3\\lib\\site-packages\\sklearn\\manifold\\_spectral_embedding.py:260: UserWarning: Graph is not fully connected, spectral embedding may not work as expected.\n",
      "  warnings.warn(\n",
      "D:\\Documents\\anaconda3\\lib\\site-packages\\sklearn\\manifold\\_isomap.py:324: UserWarning: The number of connected components of the neighbors graph is 2 > 1. Completing the graph to fit Isomap might be slow. Increase the number of neighbors to avoid this issue.\n",
      "  self._fit_transform(X)\n",
      "D:\\Documents\\anaconda3\\lib\\site-packages\\scipy\\sparse\\_index.py:103: SparseEfficiencyWarning: Changing the sparsity structure of a csr_matrix is expensive. lil_matrix is more efficient.\n",
      "  self._set_intXint(row, col, x.flat[0])\n",
      "D:\\Documents\\anaconda3\\lib\\site-packages\\sklearn\\manifold\\_t_sne.py:780: FutureWarning: The default initialization in TSNE will change from 'random' to 'pca' in 1.2.\n",
      "  warnings.warn(\n",
      "D:\\Documents\\anaconda3\\lib\\site-packages\\sklearn\\manifold\\_t_sne.py:790: FutureWarning: The default learning rate in TSNE will change from 200.0 to 'auto' in 1.2.\n",
      "  warnings.warn(\n"
     ]
    },
    {
     "name": "stdout",
     "output_type": "stream",
     "text": [
      "[7.45250270e-01 1.51989441e-01 8.49212797e-02 1.64983040e-02\n",
      " 3.79041061e-04 1.68144814e-04 1.31375727e-04 1.07866598e-04\n",
      " 9.27031645e-05 8.02546887e-05 7.18502447e-05 6.69134612e-05\n",
      " 6.06049535e-05 4.64435282e-05 3.62096578e-05 2.45265630e-05\n",
      " 2.29950682e-05 1.94622818e-05 1.90456946e-05 5.57160064e-06]\n"
     ]
    },
    {
     "name": "stderr",
     "output_type": "stream",
     "text": [
      "D:\\Documents\\anaconda3\\lib\\site-packages\\sklearn\\manifold\\_spectral_embedding.py:260: UserWarning: Graph is not fully connected, spectral embedding may not work as expected.\n",
      "  warnings.warn(\n",
      "D:\\Documents\\anaconda3\\lib\\site-packages\\sklearn\\manifold\\_spectral_embedding.py:260: UserWarning: Graph is not fully connected, spectral embedding may not work as expected.\n",
      "  warnings.warn(\n",
      "D:\\Documents\\anaconda3\\lib\\site-packages\\sklearn\\manifold\\_isomap.py:324: UserWarning: The number of connected components of the neighbors graph is 2 > 1. Completing the graph to fit Isomap might be slow. Increase the number of neighbors to avoid this issue.\n",
      "  self._fit_transform(X)\n",
      "D:\\Documents\\anaconda3\\lib\\site-packages\\scipy\\sparse\\_index.py:103: SparseEfficiencyWarning: Changing the sparsity structure of a csr_matrix is expensive. lil_matrix is more efficient.\n",
      "  self._set_intXint(row, col, x.flat[0])\n",
      "D:\\Documents\\anaconda3\\lib\\site-packages\\sklearn\\manifold\\_t_sne.py:780: FutureWarning: The default initialization in TSNE will change from 'random' to 'pca' in 1.2.\n",
      "  warnings.warn(\n",
      "D:\\Documents\\anaconda3\\lib\\site-packages\\sklearn\\manifold\\_t_sne.py:790: FutureWarning: The default learning rate in TSNE will change from 200.0 to 'auto' in 1.2.\n",
      "  warnings.warn(\n"
     ]
    },
    {
     "name": "stdout",
     "output_type": "stream",
     "text": [
      "[7.45250270e-01 1.51989441e-01 8.49212797e-02 1.64983040e-02\n",
      " 3.79041061e-04 1.68144814e-04 1.31375727e-04 1.07866598e-04\n",
      " 9.27031645e-05 8.02546887e-05 7.18502447e-05 6.69134612e-05\n",
      " 6.06049535e-05 4.64435282e-05 3.62096578e-05 2.45265630e-05\n",
      " 2.29950682e-05 1.94622818e-05 1.90456946e-05 5.57160064e-06\n",
      " 5.27786510e-06 2.41843846e-06]\n"
     ]
    },
    {
     "name": "stderr",
     "output_type": "stream",
     "text": [
      "D:\\Documents\\anaconda3\\lib\\site-packages\\sklearn\\manifold\\_spectral_embedding.py:260: UserWarning: Graph is not fully connected, spectral embedding may not work as expected.\n",
      "  warnings.warn(\n",
      "D:\\Documents\\anaconda3\\lib\\site-packages\\sklearn\\manifold\\_spectral_embedding.py:260: UserWarning: Graph is not fully connected, spectral embedding may not work as expected.\n",
      "  warnings.warn(\n",
      "D:\\Documents\\anaconda3\\lib\\site-packages\\sklearn\\manifold\\_isomap.py:324: UserWarning: The number of connected components of the neighbors graph is 2 > 1. Completing the graph to fit Isomap might be slow. Increase the number of neighbors to avoid this issue.\n",
      "  self._fit_transform(X)\n",
      "D:\\Documents\\anaconda3\\lib\\site-packages\\scipy\\sparse\\_index.py:103: SparseEfficiencyWarning: Changing the sparsity structure of a csr_matrix is expensive. lil_matrix is more efficient.\n",
      "  self._set_intXint(row, col, x.flat[0])\n",
      "D:\\Documents\\anaconda3\\lib\\site-packages\\sklearn\\manifold\\_t_sne.py:780: FutureWarning: The default initialization in TSNE will change from 'random' to 'pca' in 1.2.\n",
      "  warnings.warn(\n",
      "D:\\Documents\\anaconda3\\lib\\site-packages\\sklearn\\manifold\\_t_sne.py:790: FutureWarning: The default learning rate in TSNE will change from 200.0 to 'auto' in 1.2.\n",
      "  warnings.warn(\n"
     ]
    },
    {
     "name": "stdout",
     "output_type": "stream",
     "text": [
      "[7.45250270e-01 1.51989441e-01 8.49212797e-02 1.64983040e-02\n",
      " 3.79041061e-04 1.68144814e-04 1.31375727e-04 1.07866598e-04\n",
      " 9.27031645e-05 8.02546887e-05 7.18502447e-05 6.69134612e-05\n",
      " 6.06049535e-05 4.64435282e-05 3.62096578e-05 2.45265630e-05\n",
      " 2.29950682e-05 1.94622818e-05 1.90456946e-05 5.57160064e-06\n",
      " 5.27786510e-06 2.41843846e-06 4.29083350e-33 4.29083350e-33]\n"
     ]
    },
    {
     "name": "stderr",
     "output_type": "stream",
     "text": [
      "D:\\Documents\\anaconda3\\lib\\site-packages\\sklearn\\manifold\\_spectral_embedding.py:260: UserWarning: Graph is not fully connected, spectral embedding may not work as expected.\n",
      "  warnings.warn(\n",
      "D:\\Documents\\anaconda3\\lib\\site-packages\\sklearn\\manifold\\_spectral_embedding.py:260: UserWarning: Graph is not fully connected, spectral embedding may not work as expected.\n",
      "  warnings.warn(\n",
      "D:\\Documents\\anaconda3\\lib\\site-packages\\sklearn\\manifold\\_isomap.py:324: UserWarning: The number of connected components of the neighbors graph is 2 > 1. Completing the graph to fit Isomap might be slow. Increase the number of neighbors to avoid this issue.\n",
      "  self._fit_transform(X)\n",
      "D:\\Documents\\anaconda3\\lib\\site-packages\\scipy\\sparse\\_index.py:103: SparseEfficiencyWarning: Changing the sparsity structure of a csr_matrix is expensive. lil_matrix is more efficient.\n",
      "  self._set_intXint(row, col, x.flat[0])\n",
      "D:\\Documents\\anaconda3\\lib\\site-packages\\sklearn\\manifold\\_t_sne.py:780: FutureWarning: The default initialization in TSNE will change from 'random' to 'pca' in 1.2.\n",
      "  warnings.warn(\n",
      "D:\\Documents\\anaconda3\\lib\\site-packages\\sklearn\\manifold\\_t_sne.py:790: FutureWarning: The default learning rate in TSNE will change from 200.0 to 'auto' in 1.2.\n",
      "  warnings.warn(\n"
     ]
    },
    {
     "name": "stdout",
     "output_type": "stream",
     "text": [
      "[7.45250270e-01 1.51989441e-01 8.49212797e-02 1.64983040e-02\n",
      " 3.79041061e-04 1.68144814e-04 1.31375727e-04 1.07866598e-04\n",
      " 9.27031645e-05 8.02546887e-05 7.18502447e-05 6.69134612e-05\n",
      " 6.06049535e-05 4.64435282e-05 3.62096578e-05 2.45265630e-05\n",
      " 2.29950682e-05 1.94622818e-05 1.90456946e-05 5.57160064e-06\n",
      " 5.27786510e-06 2.41843846e-06 4.29083350e-33 4.29083350e-33\n",
      " 4.29083350e-33 4.29083350e-33]\n"
     ]
    },
    {
     "name": "stderr",
     "output_type": "stream",
     "text": [
      "D:\\Documents\\anaconda3\\lib\\site-packages\\sklearn\\manifold\\_spectral_embedding.py:260: UserWarning: Graph is not fully connected, spectral embedding may not work as expected.\n",
      "  warnings.warn(\n",
      "D:\\Documents\\anaconda3\\lib\\site-packages\\sklearn\\manifold\\_spectral_embedding.py:260: UserWarning: Graph is not fully connected, spectral embedding may not work as expected.\n",
      "  warnings.warn(\n",
      "D:\\Documents\\anaconda3\\lib\\site-packages\\sklearn\\manifold\\_isomap.py:324: UserWarning: The number of connected components of the neighbors graph is 2 > 1. Completing the graph to fit Isomap might be slow. Increase the number of neighbors to avoid this issue.\n",
      "  self._fit_transform(X)\n",
      "D:\\Documents\\anaconda3\\lib\\site-packages\\scipy\\sparse\\_index.py:103: SparseEfficiencyWarning: Changing the sparsity structure of a csr_matrix is expensive. lil_matrix is more efficient.\n",
      "  self._set_intXint(row, col, x.flat[0])\n",
      "D:\\Documents\\anaconda3\\lib\\site-packages\\sklearn\\manifold\\_t_sne.py:780: FutureWarning: The default initialization in TSNE will change from 'random' to 'pca' in 1.2.\n",
      "  warnings.warn(\n",
      "D:\\Documents\\anaconda3\\lib\\site-packages\\sklearn\\manifold\\_t_sne.py:790: FutureWarning: The default learning rate in TSNE will change from 200.0 to 'auto' in 1.2.\n",
      "  warnings.warn(\n"
     ]
    },
    {
     "name": "stdout",
     "output_type": "stream",
     "text": [
      "[7.45250270e-01 1.51989441e-01 8.49212797e-02 1.64983040e-02\n",
      " 3.79041061e-04 1.68144814e-04 1.31375727e-04 1.07866598e-04\n",
      " 9.27031645e-05 8.02546887e-05 7.18502447e-05 6.69134612e-05\n",
      " 6.06049535e-05 4.64435282e-05 3.62096578e-05 2.45265630e-05\n",
      " 2.29950682e-05 1.94622818e-05 1.90456946e-05 5.57160064e-06\n",
      " 5.27786510e-06 2.41843846e-06 4.29083350e-33 4.29083350e-33\n",
      " 4.29083350e-33 4.29083350e-33 4.29083350e-33 4.29083350e-33]\n"
     ]
    },
    {
     "name": "stderr",
     "output_type": "stream",
     "text": [
      "D:\\Documents\\anaconda3\\lib\\site-packages\\sklearn\\manifold\\_spectral_embedding.py:260: UserWarning: Graph is not fully connected, spectral embedding may not work as expected.\n",
      "  warnings.warn(\n",
      "D:\\Documents\\anaconda3\\lib\\site-packages\\sklearn\\manifold\\_spectral_embedding.py:260: UserWarning: Graph is not fully connected, spectral embedding may not work as expected.\n",
      "  warnings.warn(\n",
      "D:\\Documents\\anaconda3\\lib\\site-packages\\sklearn\\manifold\\_isomap.py:324: UserWarning: The number of connected components of the neighbors graph is 2 > 1. Completing the graph to fit Isomap might be slow. Increase the number of neighbors to avoid this issue.\n",
      "  self._fit_transform(X)\n",
      "D:\\Documents\\anaconda3\\lib\\site-packages\\scipy\\sparse\\_index.py:103: SparseEfficiencyWarning: Changing the sparsity structure of a csr_matrix is expensive. lil_matrix is more efficient.\n",
      "  self._set_intXint(row, col, x.flat[0])\n",
      "D:\\Documents\\anaconda3\\lib\\site-packages\\sklearn\\manifold\\_t_sne.py:780: FutureWarning: The default initialization in TSNE will change from 'random' to 'pca' in 1.2.\n",
      "  warnings.warn(\n",
      "D:\\Documents\\anaconda3\\lib\\site-packages\\sklearn\\manifold\\_t_sne.py:790: FutureWarning: The default learning rate in TSNE will change from 200.0 to 'auto' in 1.2.\n",
      "  warnings.warn(\n"
     ]
    },
    {
     "name": "stdout",
     "output_type": "stream",
     "text": [
      "complete.....\n",
      "\n",
      "\n"
     ]
    }
   ],
   "source": [
    "# performing experiment 2    \n",
    "\n",
    "DR = [ CFS, LLCFS, PCA_model, CE_Model, CE2, LLE, Isomap, TSNE]\n",
    "DR_TXT = [ 'CFS', 'LLCFS', 'PCA_model', 'CE_Model', 'CE2', 'LLE', 'Isomap', 'TSNE']\n",
    "\n",
    "print(X1.shape)\n",
    "All = {}\n",
    "for NoF in range (2, X1.shape[1], 2): # Number of features\n",
    "    X1s = [d(X1, np.ravel(Y1), NoF) for d in DR] # dimension reduction\n",
    "    results1 = [predict(x1, np.ravel(Y1), [GaussianSVM])[0] for x1 in X1s] # Machine learning models\n",
    "    All[NoF] = results1\n",
    "    \n",
    "\n",
    "print('complete.....\\n\\n')"
   ]
  },
  {
   "cell_type": "code",
   "execution_count": 37,
   "id": "ec9f30d9",
   "metadata": {},
   "outputs": [
    {
     "data": {
      "image/png": "[encoded data removed]",
      "text/plain": [
       "<Figure size 640x480 with 1 Axes>"
      ]
     },
     "metadata": {},
     "output_type": "display_data"
    }
   ],
   "source": [
    "r0, r1,r2,r3,r4,r5,r6,r7,r8  = [],[],[],[],[],[],[],[],[]\n",
    "for sim in All:\n",
    "    r0.append(sim)\n",
    "    r1.append(All[sim][0][0])\n",
    "    r2.append(All[sim][1][0])\n",
    "    r3.append(All[sim][2][0])\n",
    "    r4.append(All[sim][3][0])\n",
    "    r5.append(All[sim][4][0])\n",
    "    r6.append(All[sim][5][0])\n",
    "    r7.append(All[sim][6][0])\n",
    "    r8.append(All[sim][7][0])\n",
    "\n",
    "fdf = pd.DataFrame({'Number of attributes': r0, \n",
    "                    'CFS': r1, \n",
    "                    'LLCFS': r2, \n",
    "                    'PCA':r3, \n",
    "                    'Gaussian CE': r4,\n",
    "                    'Laplacian CE': r5, \n",
    "                    'LLE': r6, \n",
    "                    'Isomap': r7, \n",
    "                    'TSNE':r8})\n",
    "\n",
    "import matplotlib.pyplot as plt\n",
    "fdf.plot(x='Number of attributes', y=['CFS', 'LLCFS', 'PCA', 'Gaussian CE', 'Laplacian CE', 'LLE', 'Isomap', 'TSNE',])\n",
    "plt.legend(bbox_to_anchor=(1.05, 1), loc='upper left')\n",
    "plt.ylabel('Accuracy')\n",
    "plt.title(\"Gaussian SVM on Dataset 1\")\n",
    "plt.show()"
   ]
  },
  {
   "cell_type": "code",
   "execution_count": 24,
   "id": "5e23cabc",
   "metadata": {
    "scrolled": false
   },
   "outputs": [
    {
     "name": "stderr",
     "output_type": "stream",
     "text": [
      "D:\\Documents\\anaconda3\\lib\\site-packages\\sklearn\\feature_selection\\_univariate_selection.py:289: RuntimeWarning: invalid value encountered in true_divide\n",
      "  correlation_coefficient /= X_norms\n"
     ]
    },
    {
     "name": "stdout",
     "output_type": "stream",
     "text": [
      "[9.68713086e-01 2.74234961e-02 1.81937840e-03 7.64856806e-04\n",
      " 5.10486842e-04 2.95086213e-04 1.99060233e-04 1.07638969e-04\n",
      " 8.67742844e-05 3.23837027e-05 1.76585343e-05 1.28489755e-05\n",
      " 4.04401212e-06 3.54801270e-06 2.88068144e-06 2.62541850e-06\n",
      " 2.14270955e-06 1.17896369e-06 2.54867404e-07 1.58914087e-07\n",
      " 1.03668102e-07 7.68200538e-08 6.24574875e-08 5.89534241e-08\n",
      " 3.44613336e-08]\n"
     ]
    },
    {
     "name": "stderr",
     "output_type": "stream",
     "text": [
      "D:\\Documents\\anaconda3\\lib\\site-packages\\sklearn\\manifold\\_spectral_embedding.py:260: UserWarning: Graph is not fully connected, spectral embedding may not work as expected.\n",
      "  warnings.warn(\n",
      "D:\\Documents\\anaconda3\\lib\\site-packages\\sklearn\\manifold\\_t_sne.py:780: FutureWarning: The default initialization in TSNE will change from 'random' to 'pca' in 1.2.\n",
      "  warnings.warn(\n",
      "D:\\Documents\\anaconda3\\lib\\site-packages\\sklearn\\manifold\\_t_sne.py:790: FutureWarning: The default learning rate in TSNE will change from 200.0 to 'auto' in 1.2.\n",
      "  warnings.warn(\n"
     ]
    },
    {
     "name": "stdout",
     "output_type": "stream",
     "text": [
      "Logistic\n",
      "          DR  accuracy  sensitivity  specificity\n",
      "0        CFS  0.940439     0.893412     0.928065\n",
      "0      LLCFS  0.989028     0.979953     0.990475\n",
      "0  PCA_model  0.976489     0.953977     0.978789\n",
      "0   CE_Model  0.774295     0.331989     0.665488\n",
      "0        CE2  0.782132     0.348491     0.682342\n",
      "0        LLE  0.791536     0.450758     0.728193\n",
      "0     Isomap  0.780564     0.363589     0.692082\n",
      "0       TSNE  0.777429     0.333333     0.666667\n",
      "\n"
     ]
    }
   ],
   "source": [
    "NoF = 25 # Number of features\n",
    "X2s = [d(X2, np.ravel(Y2), NoF) for d in DR]\n",
    "\n",
    "results2 = [predict(x2, np.ravel(Y2), [Logistic]) for x2 in X2s]\n",
    "finals = []\n",
    "for i in range(len(DR)):\n",
    "    rd = DR_TXT[i]\n",
    "    acc, sen, spe = [],[],[]\n",
    "    for a, s, e in results2[i]:\n",
    "        acc.append(a)\n",
    "        sen.append(s)\n",
    "        spe.append(e)\n",
    "    finals.append(pd.DataFrame({'model': ['Logistic'],'accuracy': acc, 'sensitivity': sen, 'specificity': spe}))\n",
    "    \n",
    "    \n",
    "finalR = {}\n",
    "for i in ['Logistic']:\n",
    "    D = pd.DataFrame() # create an empty DataFrame to hold the filtered rows     \n",
    "    for df in finals:\n",
    "        row = df[df['model'] == i]\n",
    "        D = D.append(row) # filter rows that match a certain condition and append them to D\n",
    "    D['DR'] = DR_TXT\n",
    "    D = D.drop('model', axis=1)\n",
    "    finalR[i] = D\n",
    "\n",
    "for i in finalR:\n",
    "    print(i)\n",
    "    print(finalR[i][['DR', 'accuracy' , 'sensitivity',  'specificity']])\n",
    "    print()"
   ]
  },
  {
   "cell_type": "code",
   "execution_count": null,
   "id": "0929f10d",
   "metadata": {},
   "outputs": [],
   "source": [
    "print(X2.shape)\n",
    "All = {}\n",
    "for NoF in range (2, X2.shape[1], 2): # Number of features\n",
    "    X1s = [d(X2, np.ravel(Y2), NoF) for d in DR] # dimension reduction\n",
    "    results1 = [predict(x, np.ravel(Y2), [Logistic])[0] for x in X1s] # Machine learning models\n",
    "    All[NoF] = results1\n",
    "    \n",
    "\n",
    "print('complete.....\\n\\n')"
   ]
  },
  {
   "cell_type": "code",
   "execution_count": 30,
   "id": "813cc7a4",
   "metadata": {},
   "outputs": [
    {
     "data": {
      "image/png": "[encoded data removed]",
      "text/plain": [
       "<Figure size 640x480 with 1 Axes>"
      ]
     },
     "metadata": {},
     "output_type": "display_data"
    }
   ],
   "source": [
    "r0, r1,r2,r3,r4,r5,r6,r7,r8  = [],[],[],[],[],[],[],[],[]\n",
    "for sim in All:\n",
    "    r0.append(sim)\n",
    "    r1.append(All[sim][0][0])\n",
    "    r2.append(All[sim][1][0])\n",
    "    r3.append(All[sim][2][0])\n",
    "    r4.append(All[sim][3][0])\n",
    "    r5.append(All[sim][4][0])\n",
    "    r6.append(All[sim][5][0])\n",
    "    r7.append(All[sim][6][0])\n",
    "    r8.append(All[sim][7][0])\n",
    "\n",
    "fdf = pd.DataFrame({'Number of attributes': r0, \n",
    "                    'CFS': r1, \n",
    "                    'LLCFS': r2, \n",
    "                    'PCA':r3, \n",
    "                    'Gaussian CE': r4,\n",
    "                    'Laplacian CE': r5, \n",
    "                    'LLE': r6, \n",
    "                    'Isomap': r7, \n",
    "                    'TSNE':r8})\n",
    "fdf\n",
    "import matplotlib.pyplot as plt\n",
    "fdf.plot(x='Number of attributes', y=['CFS', 'LLCFS', 'PCA', 'Gaussian CE', 'Laplacian CE', 'LLE', 'Isomap', 'TSNE',])\n",
    "plt.legend(bbox_to_anchor=(1.05, 1), loc='upper left')\n",
    "plt.ylabel('Accuracy')\n",
    "plt.title(\"Logistic regression on Dataset 2\")\n",
    "plt.show()\n"
   ]
  },
  {
   "cell_type": "code",
   "execution_count": 33,
   "id": "57690e74",
   "metadata": {},
   "outputs": [
    {
     "name": "stdout",
     "output_type": "stream",
     "text": [
      "[ 2  5  9 10 12]\n"
     ]
    },
    {
     "name": "stderr",
     "output_type": "stream",
     "text": [
      "D:\\Documents\\anaconda3\\lib\\site-packages\\sklearn\\utils\\deprecation.py:87: FutureWarning: Function load_boston is deprecated; `load_boston` is deprecated in 1.0 and will be removed in 1.2.\n",
      "\n",
      "    The Boston housing prices dataset has an ethical problem. You can refer to\n",
      "    the documentation of this function for further details.\n",
      "\n",
      "    The scikit-learn maintainers therefore strongly discourage the use of this\n",
      "    dataset unless the purpose of the code is to study and educate about\n",
      "    ethical issues in data science and machine learning.\n",
      "\n",
      "    In this special case, you can fetch the dataset from the original\n",
      "    source::\n",
      "\n",
      "        import pandas as pd\n",
      "        import numpy as np\n",
      "\n",
      "\n",
      "        data_url = \"http://lib.stat.cmu.edu/datasets/boston\"\n",
      "        raw_df = pd.read_csv(data_url, sep=\"\\s+\", skiprows=22, header=None)\n",
      "        data = np.hstack([raw_df.values[::2, :], raw_df.values[1::2, :2]])\n",
      "        target = raw_df.values[1::2, 2]\n",
      "\n",
      "    Alternative datasets include the California housing dataset (i.e.\n",
      "    :func:`~sklearn.datasets.fetch_california_housing`) and the Ames housing\n",
      "    dataset. You can load the datasets as follows::\n",
      "\n",
      "        from sklearn.datasets import fetch_california_housing\n",
      "        housing = fetch_california_housing()\n",
      "\n",
      "    for the California housing dataset and::\n",
      "\n",
      "        from sklearn.datasets import fetch_openml\n",
      "        housing = fetch_openml(name=\"house_prices\", as_frame=True)\n",
      "\n",
      "    for the Ames housing dataset.\n",
      "    \n",
      "  warnings.warn(msg, category=FutureWarning)\n"
     ]
    },
    {
     "data": {
      "text/plain": [
       "array([[  2.31 ,   6.575, 296.   ,  15.3  ,   4.98 ],\n",
       "       [  7.07 ,   6.421, 242.   ,  17.8  ,   9.14 ],\n",
       "       [  7.07 ,   7.185, 242.   ,  17.8  ,   4.03 ],\n",
       "       ...,\n",
       "       [ 11.93 ,   6.976, 273.   ,  21.   ,   5.64 ],\n",
       "       [ 11.93 ,   6.794, 273.   ,  21.   ,   6.48 ],\n",
       "       [ 11.93 ,   6.03 , 273.   ,  21.   ,   7.88 ]])"
      ]
     },
     "execution_count": 33,
     "metadata": {},
     "output_type": "execute_result"
    }
   ],
   "source": [
    "from sklearn.feature_selection import SelectKBest, f_regression\n",
    "from sklearn.datasets import load_boston\n",
    "\n",
    "# Load the Boston Housing dataset\n",
    "X, y = load_boston(return_X_y=True)\n",
    "\n",
    "# Select the top 5 features using SelectKBest with f_regression\n",
    "selector = SelectKBest(score_func=f_regression, k=5)\n",
    "X_new = selector.fit_transform(X, y)\n",
    "\n",
    "# Print the indices of the selected features\n",
    "print(selector.get_support(indices=True))\n",
    "X_new"
   ]
  }
 ],
 "metadata": {
  "kernelspec": {
   "display_name": "Python 3 (ipykernel)",
   "language": "python",
   "name": "python3"
  },
  "language_info": {
   "codemirror_mode": {
    "name": "ipython",
    "version": 3
   },
   "file_extension": ".py",
   "mimetype": "text/x-python",
   "name": "python",
   "nbconvert_exporter": "python",
   "pygments_lexer": "ipython3",
   "version": "3.9.13"
  }
 },
 "nbformat": 4,
 "nbformat_minor": 5
}
